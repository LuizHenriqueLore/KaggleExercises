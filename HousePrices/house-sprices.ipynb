{
 "cells": [
  {
   "cell_type": "code",
   "execution_count": 1,
   "id": "e26eac92",
   "metadata": {
    "_cell_guid": "b1076dfc-b9ad-4769-8c92-a6c4dae69d19",
    "_uuid": "8f2839f25d086af736a60e9eeb907d3b93b6e0e5",
    "execution": {
     "iopub.execute_input": "2021-08-06T21:44:00.585331Z",
     "iopub.status.busy": "2021-08-06T21:44:00.584165Z",
     "iopub.status.idle": "2021-08-06T21:44:00.597319Z",
     "shell.execute_reply": "2021-08-06T21:44:00.597805Z",
     "shell.execute_reply.started": "2021-08-06T21:43:36.660804Z"
    },
    "papermill": {
     "duration": 0.023746,
     "end_time": "2021-08-06T21:44:00.598107",
     "exception": false,
     "start_time": "2021-08-06T21:44:00.574361",
     "status": "completed"
    },
    "tags": []
   },
   "outputs": [
    {
     "name": "stdout",
     "output_type": "stream",
     "text": [
      "/kaggle/input/home-data-for-ml-course/sample_submission.csv\n",
      "/kaggle/input/home-data-for-ml-course/sample_submission.csv.gz\n",
      "/kaggle/input/home-data-for-ml-course/train.csv.gz\n",
      "/kaggle/input/home-data-for-ml-course/data_description.txt\n",
      "/kaggle/input/home-data-for-ml-course/test.csv.gz\n",
      "/kaggle/input/home-data-for-ml-course/train.csv\n",
      "/kaggle/input/home-data-for-ml-course/test.csv\n"
     ]
    }
   ],
   "source": [
    "# This Python 3 environment comes with many helpful analytics libraries installed\n",
    "# It is defined by the kaggle/python Docker image: https://github.com/kaggle/docker-python\n",
    "# For example, here's several helpful packages to load\n",
    "\n",
    "import numpy as np # linear algebra\n",
    "import pandas as pd # data processing, CSV file I/O (e.g. pd.read_csv)\n",
    "\n",
    "# Input data files are available in the read-only \"../input/\" directory\n",
    "# For example, running this (by clicking run or pressing Shift+Enter) will list all files under the input directory\n",
    "\n",
    "import os\n",
    "for dirname, _, filenames in os.walk('/kaggle/input'):\n",
    "    for filename in filenames:\n",
    "        print(os.path.join(dirname, filename))\n",
    "\n",
    "# You can write up to 20GB to the current directory (/kaggle/working/) that gets preserved as output when you create a version using \"Save & Run All\" \n",
    "# You can also write temporary files to /kaggle/temp/, but they won't be saved outside of the current session"
   ]
  },
  {
   "cell_type": "code",
   "execution_count": 2,
   "id": "eb7a5532",
   "metadata": {
    "execution": {
     "iopub.execute_input": "2021-08-06T21:44:00.612249Z",
     "iopub.status.busy": "2021-08-06T21:44:00.611258Z",
     "iopub.status.idle": "2021-08-06T21:44:00.773983Z",
     "shell.execute_reply": "2021-08-06T21:44:00.774586Z",
     "shell.execute_reply.started": "2021-08-06T21:43:38.301123Z"
    },
    "papermill": {
     "duration": 0.171107,
     "end_time": "2021-08-06T21:44:00.774765",
     "exception": false,
     "start_time": "2021-08-06T21:44:00.603658",
     "status": "completed"
    },
    "tags": []
   },
   "outputs": [],
   "source": [
    "#geting the data we need\n",
    "data_train_path = '/kaggle/input/home-data-for-ml-course/train.csv'\n",
    "data_test_path = '/kaggle/input/home-data-for-ml-course/test.csv'\n",
    "data_train = pd.read_csv(data_train_path)\n",
    "data_test = pd.read_csv(data_test_path)\n",
    "\n",
    "#print(data_test.columns)"
   ]
  },
  {
   "cell_type": "code",
   "execution_count": 3,
   "id": "5042d684",
   "metadata": {
    "execution": {
     "iopub.execute_input": "2021-08-06T21:44:00.803162Z",
     "iopub.status.busy": "2021-08-06T21:44:00.801940Z",
     "iopub.status.idle": "2021-08-06T21:44:00.805169Z",
     "shell.execute_reply": "2021-08-06T21:44:00.804524Z",
     "shell.execute_reply.started": "2021-08-06T21:43:39.653766Z"
    },
    "papermill": {
     "duration": 0.025368,
     "end_time": "2021-08-06T21:44:00.805308",
     "exception": false,
     "start_time": "2021-08-06T21:44:00.779940",
     "status": "completed"
    },
    "tags": []
   },
   "outputs": [],
   "source": [
    "#Geting the Target\n",
    "train_y = data_train.SalePrice\n",
    "\n",
    "#Geting the Features\n",
    "features = ['LotArea','OverallQual', '1stFlrSF', '2ndFlrSF', 'KitchenAbvGr','FullBath', 'BedroomAbvGr', 'PoolArea']\n",
    "train_X = data_train[features]\n",
    "test_X = data_test[features]\n",
    "features = ['Id','LotArea','OverallQual', '1stFlrSF', '2ndFlrSF', 'KitchenAbvGr','FullBath', 'BedroomAbvGr', 'PoolArea']\n",
    "test2_X = data_test[features]\n",
    "\n",
    "#print(train_y.head(), train_X.head())\n",
    "#print(test2_X.head())"
   ]
  },
  {
   "cell_type": "code",
   "execution_count": 4,
   "id": "e7873e41",
   "metadata": {
    "execution": {
     "iopub.execute_input": "2021-08-06T21:44:00.821499Z",
     "iopub.status.busy": "2021-08-06T21:44:00.820837Z",
     "iopub.status.idle": "2021-08-06T21:44:02.612362Z",
     "shell.execute_reply": "2021-08-06T21:44:02.611798Z",
     "shell.execute_reply.started": "2021-08-06T21:43:41.319804Z"
    },
    "papermill": {
     "duration": 1.802063,
     "end_time": "2021-08-06T21:44:02.612521",
     "exception": false,
     "start_time": "2021-08-06T21:44:00.810458",
     "status": "completed"
    },
    "tags": []
   },
   "outputs": [],
   "source": [
    "from sklearn.ensemble import RandomForestRegressor\n",
    "\n",
    "forest_model = RandomForestRegressor(random_state=1)\n",
    "forest_model.fit(train_X, train_y)\n",
    "\n",
    "test_predictions = forest_model.predict(test_X)\n",
    "\n",
    "output = pd.DataFrame({'Id': test2_X.Id, 'SalePrice': test_predictions})\n",
    "output.to_csv('my_submission.csv', index=False)"
   ]
  }
 ],
 "metadata": {
  "kernelspec": {
   "display_name": "Python 3",
   "language": "python",
   "name": "python3"
  },
  "language_info": {
   "codemirror_mode": {
    "name": "ipython",
    "version": 3
   },
   "file_extension": ".py",
   "mimetype": "text/x-python",
   "name": "python",
   "nbconvert_exporter": "python",
   "pygments_lexer": "ipython3",
   "version": "3.7.10"
  },
  "papermill": {
   "default_parameters": {},
   "duration": 11.845506,
   "end_time": "2021-08-06T21:44:04.124474",
   "environment_variables": {},
   "exception": null,
   "input_path": "__notebook__.ipynb",
   "output_path": "__notebook__.ipynb",
   "parameters": {},
   "start_time": "2021-08-06T21:43:52.278968",
   "version": "2.3.3"
  }
 },
 "nbformat": 4,
 "nbformat_minor": 5
}
